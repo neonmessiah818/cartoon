{
 "cells": [
  {
   "cell_type": "code",
   "execution_count": 1,
   "metadata": {},
   "outputs": [],
   "source": [
    "import cv2 #for image processing\n",
    "import easygui #to open the filebox\n",
    "import numpy as np #to store image\n",
    "import imageio #to read image stored at particular path\n",
    "import sys\n",
    "import matplotlib.pyplot as plt\n",
    "import os\n",
    "import tkinter as tk\n",
    "from tkinter import filedialog\n",
    "from tkinter import *\n",
    "from PIL import ImageTk, Image"
   ]
  },
  {
   "cell_type": "code",
   "execution_count": 3,
   "metadata": {},
   "outputs": [
    {
     "name": "stdout",
     "output_type": "stream",
     "text": [
      "Collecting opencv-python\n",
      "  Downloading opencv_python-4.5.1.48-cp38-cp38-win_amd64.whl (34.9 MB)\n",
      "Requirement already satisfied: numpy>=1.17.3 in c:\\users\\jean\\anaconda3\\lib\\site-packages (from opencv-python) (1.19.5)\n",
      "Installing collected packages: opencv-python\n",
      "Successfully installed opencv-python-4.5.1.48\n",
      "Note: you may need to restart the kernel to use updated packages.\n"
     ]
    }
   ],
   "source": [
    "pip install opencv-python"
   ]
  },
  {
   "cell_type": "code",
   "execution_count": 2,
   "metadata": {},
   "outputs": [],
   "source": [
    "\"\"\" fileopenbox opens the box to choose file\n",
    "and help us store file path as string \"\"\"\n",
    "def upload():\n",
    "    ImagePath=easygui.fileopenbox()\n",
    "    cartoonify(ImagePath)"
   ]
  },
  {
   "cell_type": "code",
   "execution_count": 5,
   "metadata": {},
   "outputs": [
    {
     "name": "stdout",
     "output_type": "stream",
     "text": [
      "Collecting easygui\n",
      "  Downloading easygui-0.98.2-py2.py3-none-any.whl (92 kB)\n",
      "Installing collected packages: easygui\n",
      "Successfully installed easygui-0.98.2\n",
      "Note: you may need to restart the kernel to use updated packages.\n"
     ]
    }
   ],
   "source": [
    "pip install easygui"
   ]
  },
  {
   "cell_type": "code",
   "execution_count": 6,
   "metadata": {},
   "outputs": [],
   "source": [
    "def cartoonify(ImagePath):\n",
    "    #read the image\n",
    "    originalmage = cv2.imread(ImagePath)\n",
    "    originalmage = cv2.cvtColor(originalmage, cv2.COLOR_BGR2RGB)\n",
    "#print(image)  # image is stored in form of numbers\n",
    "\n",
    "# confirm that image is chosen\n",
    "    if originalmage is None:\n",
    "        print(\"Can not find any image. Choose appropriate file\")\n",
    "        sys.exit()\n",
    "\n",
    "    ReSized1 = cv2.resize(originalmage, (960, 540))\n",
    "#plt.imshow(ReSized1, cmap='gray')\n",
    "#converting an image to grayscale\n",
    "    grayScaleImage = cv2.cvtColor(originalmage, cv2.COLOR_BGR2GRAY)\n",
    "    ReSized2 = cv2.resize(grayScaleImage, (960, 540))\n",
    "#plt.imshow(ReSized2, cmap='gray')\n",
    "#applying median blur to smoothen an image\n",
    "    smoothGrayScale = cv2.medianBlur(grayScaleImage, 5)\n",
    "    ReSized3 = cv2.resize(smoothGrayScale, (960, 540))\n",
    "#plt.imshow(ReSized3, cmap='gray')\n",
    "#retrieving the edges for cartoon effect\n",
    "#by using thresholding technique\n",
    "    getEdge = cv2.adaptiveThreshold(smoothGrayScale, 255, \n",
    "    cv2.ADAPTIVE_THRESH_MEAN_C, \n",
    "    cv2.THRESH_BINARY, 9, 9)\n",
    "\n",
    "    ReSized4 = cv2.resize(getEdge, (960, 540))\n",
    "#plt.imshow(ReSized4, cmap='gray').\n",
    "#applying bilateral filter to remove noise \n",
    "#and keep edge sharp as required\n",
    "    colorImage = cv2.bilateralFilter(originalmage, 9, 300, 300)\n",
    "    ReSized5 = cv2.resize(colorImage, (960, 540))\n",
    "#plt.imshow(ReSized5, cmap='gray')\n",
    "#masking edged image with our \"BEAUTIFY\" image\n",
    "    cartoonImage = cv2.bitwise_and(colorImage, colorImage, mask=getEdge)\n",
    "\n",
    "    ReSized6 = cv2.resize(cartoonImage, (960, 540))\n",
    "#plt.imshow(ReSized6, cmap='gray')\n",
    "# Plotting the whole transition\n",
    "    images=[ReSized1, ReSized2, ReSized3, ReSized4, ReSized5, ReSized6]\n",
    "    fig, axes = plt.subplots(3,2, figsize=(8,8), subplot_kw={'xticks':[], 'yticks':[]}, gridspec_kw=dict(hspace=0.1, wspace=0.1))\n",
    "    for i, ax in enumerate(axes.flat):\n",
    "        ax.imshow(images[i], cmap='gray')\n",
    "#save button code\n",
    "    plt.show()"
   ]
  },
  {
   "cell_type": "code",
   "execution_count": null,
   "metadata": {},
   "outputs": [],
   "source": []
  },
  {
   "cell_type": "code",
   "execution_count": 17,
   "metadata": {},
   "outputs": [],
   "source": [
    "def save(ReSized6, ImagePath):\n",
    "    #saving an image using imwrite()\n",
    "    newName=\"cartoonified_Image\"\n",
    "    path1 = os.path.dirname(ImagePath)\n",
    "    extension=os.path.splitext(ImagePath)[1]\n",
    "    path = os.path.join(path1, newName+extension)\n",
    "    cv2.imwrite(path, cv2.cvtColor(ReSized6, cv2.COLOR_RGB2BGR))\n",
    "    I = \"Image saved by name \" + newName +\" at \"+ path\n",
    "    tk.messagebox.showinfo(title=None, message=I)\n",
    "    top=tk.Tk()\n",
    "    top.geometry('400x400')\n",
    "    top.title('Cartoonify Your Image !')\n",
    "    top.configure(background='white')\n",
    "    label=Label(top,background='#CDCDCD', font=('calibri',20,'bold'))\n",
    "    upload=Button(top,text=\"Cartoonify an Image\",command=upload,padx=10,pady=5)\n",
    "    upload.configure(background='#364156', foreground='white',font=('calibri',10,'bold'))\n",
    "    upload.pack(side=TOP,pady=50)\n",
    "    save1=Button(top,text=\"Save cartoon image\",command=lambda: save(ImagePath, ReSized6),padx=30,pady=5)\n",
    "    save1.configure(background='#364156', foreground='white',font=('calibri',10,'bold'))\n",
    "    save1.pack(side=TOP,pady=50)\n",
    "    top.mainloop()"
   ]
  },
  {
   "cell_type": "code",
   "execution_count": 16,
   "metadata": {},
   "outputs": [
    {
     "ename": "NameError",
     "evalue": "name 'top' is not defined",
     "output_type": "error",
     "traceback": [
      "\u001b[1;31m---------------------------------------------------------------------------\u001b[0m",
      "\u001b[1;31mNameError\u001b[0m                                 Traceback (most recent call last)",
      "\u001b[1;32m<ipython-input-16-fb48ace77c70>\u001b[0m in \u001b[0;36m<module>\u001b[1;34m\u001b[0m\n\u001b[1;32m----> 1\u001b[1;33m \u001b[0mtop\u001b[0m\u001b[1;33m.\u001b[0m\u001b[0mmainloop\u001b[0m\u001b[1;33m(\u001b[0m\u001b[1;33m)\u001b[0m\u001b[1;33m\u001b[0m\u001b[1;33m\u001b[0m\u001b[0m\n\u001b[0m",
      "\u001b[1;31mNameError\u001b[0m: name 'top' is not defined"
     ]
    }
   ],
   "source": []
  },
  {
   "cell_type": "code",
   "execution_count": 12,
   "metadata": {},
   "outputs": [
    {
     "ename": "NameError",
     "evalue": "name 'Button' is not defined",
     "output_type": "error",
     "traceback": [
      "\u001b[1;31m---------------------------------------------------------------------------\u001b[0m",
      "\u001b[1;31mNameError\u001b[0m                                 Traceback (most recent call last)",
      "\u001b[1;32m<ipython-input-12-9e9e8db5c60a>\u001b[0m in \u001b[0;36m<module>\u001b[1;34m\u001b[0m\n\u001b[1;32m----> 1\u001b[1;33m \u001b[0mupload\u001b[0m\u001b[1;33m=\u001b[0m\u001b[0mButton\u001b[0m\u001b[1;33m(\u001b[0m\u001b[0mtop\u001b[0m\u001b[1;33m,\u001b[0m\u001b[0mtext\u001b[0m\u001b[1;33m=\u001b[0m\u001b[1;34m\"Cartoonify an Image\"\u001b[0m\u001b[1;33m,\u001b[0m\u001b[0mcommand\u001b[0m\u001b[1;33m=\u001b[0m\u001b[0mupload\u001b[0m\u001b[1;33m,\u001b[0m\u001b[0mpadx\u001b[0m\u001b[1;33m=\u001b[0m\u001b[1;36m10\u001b[0m\u001b[1;33m,\u001b[0m\u001b[0mpady\u001b[0m\u001b[1;33m=\u001b[0m\u001b[1;36m5\u001b[0m\u001b[1;33m)\u001b[0m\u001b[1;33m\u001b[0m\u001b[1;33m\u001b[0m\u001b[0m\n\u001b[0m\u001b[0;32m      2\u001b[0m \u001b[0mupload\u001b[0m\u001b[1;33m.\u001b[0m\u001b[0mconfigure\u001b[0m\u001b[1;33m(\u001b[0m\u001b[0mbackground\u001b[0m\u001b[1;33m=\u001b[0m\u001b[1;34m'#364156'\u001b[0m\u001b[1;33m,\u001b[0m \u001b[0mforeground\u001b[0m\u001b[1;33m=\u001b[0m\u001b[1;34m'white'\u001b[0m\u001b[1;33m,\u001b[0m\u001b[0mfont\u001b[0m\u001b[1;33m=\u001b[0m\u001b[1;33m(\u001b[0m\u001b[1;34m'calibri'\u001b[0m\u001b[1;33m,\u001b[0m\u001b[1;36m10\u001b[0m\u001b[1;33m,\u001b[0m\u001b[1;34m'bold'\u001b[0m\u001b[1;33m)\u001b[0m\u001b[1;33m)\u001b[0m\u001b[1;33m\u001b[0m\u001b[1;33m\u001b[0m\u001b[0m\n\u001b[0;32m      3\u001b[0m \u001b[0mupload\u001b[0m\u001b[1;33m.\u001b[0m\u001b[0mpack\u001b[0m\u001b[1;33m(\u001b[0m\u001b[0mside\u001b[0m\u001b[1;33m=\u001b[0m\u001b[0mTOP\u001b[0m\u001b[1;33m,\u001b[0m\u001b[0mpady\u001b[0m\u001b[1;33m=\u001b[0m\u001b[1;36m50\u001b[0m\u001b[1;33m)\u001b[0m\u001b[1;33m\u001b[0m\u001b[1;33m\u001b[0m\u001b[0m\n",
      "\u001b[1;31mNameError\u001b[0m: name 'Button' is not defined"
     ]
    }
   ],
   "source": []
  },
  {
   "cell_type": "code",
   "execution_count": 23,
   "metadata": {},
   "outputs": [],
   "source": []
  },
  {
   "cell_type": "code",
   "execution_count": null,
   "metadata": {},
   "outputs": [],
   "source": []
  },
  {
   "cell_type": "code",
   "execution_count": null,
   "metadata": {},
   "outputs": [],
   "source": []
  }
 ],
 "metadata": {
  "kernelspec": {
   "display_name": "Python 3",
   "language": "python",
   "name": "python3"
  },
  "language_info": {
   "codemirror_mode": {
    "name": "ipython",
    "version": 3
   },
   "file_extension": ".py",
   "mimetype": "text/x-python",
   "name": "python",
   "nbconvert_exporter": "python",
   "pygments_lexer": "ipython3",
   "version": "3.8.3"
  }
 },
 "nbformat": 4,
 "nbformat_minor": 4
}
